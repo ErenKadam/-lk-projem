{
 "cells": [
  {
   "cell_type": "code",
   "execution_count": null,
   "id": "c2051bf5-ce93-4ff9-a38c-fd422ed4cbf2",
   "metadata": {},
   "outputs": [],
   "source": [
    "# --NUMPY BÖLÜMÜ--\n",
    "# 1.Numpy İle Matris İşlemleri \n",
    "\n",
    "import numpy as np\n",
    "import pandas as pd\n",
    "M1 = np.random.randint(0,101, size = (5,5))\n",
    "\n",
    "\n",
    "sapma = np.std(M1)\n",
    "ort = np.mean(M1)\n",
    "vary = np.var(M1)\n",
    "\n",
    "\n",
    "sol_ust     = M1[0, 0] \n",
    "sol_alt     = M1[-1, 0]\n",
    "sag_ust     = M1[0, -1]\n",
    "sag_alt     = M1[-1, -1]\n",
    "\n",
    "\n",
    "birinci_kosegen = np.diagonal(M1)\n",
    "ikinci_kosegen = np.fliplr(M1).diagonal()  # Ayna görüntüs alıyor bu yüzden diagonal kodu eklenir \n",
    "\n",
    "\n",
    "\n",
    "print(\"MATRİS:\\n\",M1)\n",
    "print(\"Standart sapma : \",sapma)\n",
    "print(\"Ortalama: \",ort)\n",
    "print(\"Varyans : \",vary)\n",
    "print(\"En Küçük Değer: \" , M1.min())\n",
    "print(\"En Büyük Değer: \" , M1.max())\n",
    "print(\"Sol Üst : \",sol_ust)\n",
    "print(\"Sol Alt : \",sol_alt)\n",
    "print(\"Sag Üst : \",sag_ust)\n",
    "print(\"Sag Alt : \",sag_alt)\n",
    "print(\"Birinci Köşegen : \",birinci_kosegen)\n",
    "print(\"İkinci Köşegen : \",ikinci_kosegen)\n",
    "print(\"İki köşegenin toplamı:\", birinci_kosegen.sum() + ikinci_kosegen.sum())"
   ]
  },
  {
   "cell_type": "code",
   "execution_count": null,
   "id": "9480a635-e792-416a-ba44-52b7743ae766",
   "metadata": {},
   "outputs": [],
   "source": [
    "# 2.Numpy İle Veri Simülasyonu\n",
    "\n",
    "np.random.seed(1)\n",
    "puanlar=np.random.randint(0,101,1000).astype(int)\n",
    "ort=np.mean(puanlar)\n",
    "medyan=np.median(puanlar)\n",
    "sapma=np.std(puanlar)\n",
    "dusuk_puanlar=np.sum(puanlar<50)\n",
    "print(\"Puan Listesi\\n : \",puanlar)\n",
    "print(\"Ortalama: \",ort)\n",
    "print(\"Medyan:\",medyan)\n",
    "print(\"Standart Sapma: \",sapma)\n",
    "print(\"50 den Düşük Öğrenci Sayısı \",dusuk_puanlar)"
   ]
  },
  {
   "cell_type": "code",
   "execution_count": null,
   "id": "a473913e-b672-49f1-b248-94e6713977d3",
   "metadata": {},
   "outputs": [],
   "source": [
    "# --PANDAS BÖLÜMÜ--\n",
    "isim=['Ali','Ayşe','Mehmet','Zeynep','Ahmet']\n",
    "yas=[20,21,19,22,20]\n",
    "bolum=['Bilgisayar','Fizik','Kimya','Bilgisayar','Fizik']\n",
    "mat_notlar=[70,60,80,90,55]\n",
    "fiz_notlar=[65,75,70,85,60]\n",
    "kim_notlar=[80,85,65,95,70]\n",
    "\n",
    "\n",
    "ort_mat=sum(mat_notlar) / len(mat_notlar)\n",
    "ort_fiz=sum(fiz_notlar) / len(fiz_notlar)\n",
    "ort_kim=sum(kim_notlar) / len(kim_notlar)\n",
    "\n",
    "dframe=pd.DataFrame({'ÖĞRENCİ':isim,'YAŞ':yas,'BÖLÜM':bolum,'MATEMATİK':mat_notlar,'FİZİK':fiz_notlar,'KİMYA':kim_notlar})\n",
    "\n",
    "dframe[\"ORTALAMA\"] = dframe[[\"MATEMATİK\", \"FİZİK\", \"KİMYA\"]].mean(axis=1)\n",
    "dframe\n"
   ]
  },
  {
   "cell_type": "code",
   "execution_count": null,
   "id": "20e64309-0a6d-4a07-87e6-a756d09a49ee",
   "metadata": {},
   "outputs": [],
   "source": [
    "#--GÖREVLER--\n",
    "ort_mat=sum(mat_notlar) / len(mat_notlar)\n",
    "ort_fiz=sum(fiz_notlar) / len(fiz_notlar)\n",
    "ort_kim=sum(kim_notlar) / len(kim_notlar)\n",
    "mat_max = dframe[\"MATEMATİK\"].max()\n",
    "ogrenci = dframe[dframe[\"MATEMATİK\"] == mat_max]\n",
    "yuksek_ort_isim=dframe[dframe[\"ORTALAMA\"] > 70][\"ÖĞRENCİ\"]\n",
    "bolum_ortalamalari = dframe.groupby('BÖLÜM')[[\"MATEMATİK\", \"FİZİK\", \"KİMYA\"]].mean()\n",
    "\n",
    "print(\"Fizik Dersi Ortalaması :\", ort_fiz)\n",
    "print(\"Matematik Dersi Ortalaması :\", ort_mat)\n",
    "print(\"Kimya Dersi Ortalaması :\", ort_kim)\n",
    "print(\"En yüksek matematik notunu alan öğrenci:\")\n",
    "print(ogrenci[[\"ÖĞRENCİ\", \"MATEMATİK\"]])\n",
    "print(\"Ortalaması 70'den Yüksek Öğrenciler\\n\",yuksek_ort_isim.tolist())\n",
    "print(\"Bölüm Ortalamaları\\n\", bolum_ortalamalari)"
   ]
  },
  {
   "cell_type": "code",
   "execution_count": null,
   "id": "6267915b-0f3e-4ca1-8a05-f8abd8badef1",
   "metadata": {},
   "outputs": [],
   "source": [
    "# --EK GÖREV--\n"
   ]
  }
 ],
 "metadata": {
  "kernelspec": {
   "display_name": "Python 3 (ipykernel)",
   "language": "python",
   "name": "python3"
  },
  "language_info": {
   "codemirror_mode": {
    "name": "ipython",
    "version": 3
   },
   "file_extension": ".py",
   "mimetype": "text/x-python",
   "name": "python",
   "nbconvert_exporter": "python",
   "pygments_lexer": "ipython3",
   "version": "3.13.5"
  }
 },
 "nbformat": 4,
 "nbformat_minor": 5
}
