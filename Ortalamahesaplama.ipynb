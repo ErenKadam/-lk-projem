{
 "cells": [
  {
   "cell_type": "code",
   "execution_count": 1,
   "id": "0bd986da-f258-4c42-8059-ac9c96d92025",
   "metadata": {},
   "outputs": [],
   "source": [
    " # ORTALAMA HESAPLAYICI "
   ]
  },
  {
   "cell_type": "code",
   "execution_count": 12,
   "id": "faf81ac2-14c3-4c0b-9dea-befcb12b0454",
   "metadata": {},
   "outputs": [
    {
     "name": "stdin",
     "output_type": "stream",
     "text": [
      "Ders sayısını giriniz:  4\n",
      "1. Dersin adı  Matematik\n",
      "1.Dersin Notu 65\n",
      "2. Dersin adı  Türkçe\n",
      "2.Dersin Notu 84\n",
      "3. Dersin adı  Fen\n",
      "3.Dersin Notu 50\n",
      "4. Dersin adı  Sosyal\n",
      "4.Dersin Notu 70\n"
     ]
    },
    {
     "name": "stdout",
     "output_type": "stream",
     "text": [
      "Matematik Dersi Notu: 65\n",
      "Türkçe Dersi Notu: 84\n",
      "Fen Dersi Notu: 50\n",
      "Sosyal Dersi Notu: 70\n",
      "Derslerin ortalaması: 67.25\n",
      "Geçti\n"
     ]
    }
   ],
   "source": [
    "ders_sayisi = int(input(\"Ders sayısını giriniz: \"))\n",
    "notlar={}\n",
    "toplam = 0 \n",
    "for i in range(1,ders_sayisi+1):\n",
    "    ders_adi = (input(f\"{i+0}. Dersin adı \"))\n",
    "    ders_notu =int(input(f\"{i+0}.Dersin Notu\"))\n",
    "    notlar[ders_adi]=ders_notu\n",
    "    toplam += ders_notu\n",
    "ortalama = toplam / ders_sayisi \n",
    "for ders_adi, ders_notu in notlar.items():\n",
    "    print(f\"{ders_adi} Dersi Notu: {ders_notu}\")\n",
    "\n",
    "print(\"Derslerin ortalaması:\",ortalama)\n",
    "if ortalama > 50:\n",
    "    print(\"Geçti\")\n",
    "else:\n",
    "    print(\"Kaldı\")"
   ]
  },
  {
   "cell_type": "code",
   "execution_count": null,
   "id": "be6988d8-df94-4636-91eb-3ae1b634a538",
   "metadata": {},
   "outputs": [],
   "source": []
  }
 ],
 "metadata": {
  "kernelspec": {
   "display_name": "Python 3 (ipykernel)",
   "language": "python",
   "name": "python3"
  },
  "language_info": {
   "codemirror_mode": {
    "name": "ipython",
    "version": 3
   },
   "file_extension": ".py",
   "mimetype": "text/x-python",
   "name": "python",
   "nbconvert_exporter": "python",
   "pygments_lexer": "ipython3",
   "version": "3.13.5"
  }
 },
 "nbformat": 4,
 "nbformat_minor": 5
}
