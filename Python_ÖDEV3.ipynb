{
 "cells": [
  {
   "cell_type": "code",
   "execution_count": 1,
   "id": "f5217211-f277-402b-a88f-1d037ba14712",
   "metadata": {},
   "outputs": [],
   "source": [
    "import numpy as np"
   ]
  },
  {
   "cell_type": "code",
   "execution_count": 2,
   "id": "7c9683f0-461e-4f0a-8ba7-bb091809b674",
   "metadata": {},
   "outputs": [
    {
     "name": "stdout",
     "output_type": "stream",
     "text": [
      "Benzersiz notlar: [100, 92, 85, 76]\n",
      "En yüksek not: 100\n",
      "En düşük not: 76\n",
      "Küçükten büyüğe sıralı notlar: [76, 85, 92, 100]\n"
     ]
    }
   ],
   "source": [
    "# SORU 1- LİSTE METODLARI \n",
    "\n",
    "notes = [85, 92, 76, 92, 100, 76, 85, 92]\n",
    "unique_notes = list(set(notes))\n",
    "max_number = max(unique_notes)\n",
    "min_number = min(unique_notes)\n",
    "serial_notes = sorted(unique_notes)\n",
    "print(\"Benzersiz notlar:\", unique_notes)\n",
    "print(\"En yüksek not:\", max_number)\n",
    "print(\"En düşük not:\", min_number)\n",
    "print(\"Küçükten büyüğe sıralı notlar:\", serial_notes)"
   ]
  },
  {
   "cell_type": "code",
   "execution_count": 3,
   "id": "299fd4f7-84bf-45b5-b584-216d4562b5af",
   "metadata": {},
   "outputs": [
    {
     "name": "stdout",
     "output_type": "stream",
     "text": [
      "45  Armstrong sayısı değildir.\n"
     ]
    }
   ],
   "source": [
    "# SORU 2- SAYILAR\n",
    "\n",
    "def armstrong(sayi):\n",
    "    return sayi == sum(int(d) ** len(str(sayi)) for d in str(sayi))   #Sayıyı str olarak çevirdik her basamğını ayrı ayrı işlemek için \n",
    "    \n",
    "sayi = 45\n",
    "print(f\"{sayi} bir Armstrong sayısıdır.\" if armstrong(sayi) else f\"{sayi}  Armstrong sayısı değildir.\")"
   ]
  },
  {
   "cell_type": "code",
   "execution_count": 4,
   "id": "6e51d1dc-d50e-43b9-91b7-def5ecaf4467",
   "metadata": {},
   "outputs": [
    {
     "name": "stdout",
     "output_type": "stream",
     "text": [
      "Ortak diller :  {'SQL', 'Python'}\n",
      "Sadece A'da olanlar :  {'R', 'Java'}\n",
      "Birleşimi :  ['C++' 'Java' 'JavaScript' 'Python' 'R' 'SQL']\n"
     ]
    }
   ],
   "source": [
    "#SORU 3 - KÜMELER\n",
    "\n",
    "A = {\"Python\", \"R\", \"SQL\", \"Java\"}\n",
    "B = {\"C++\", \"Python\", \"JavaScript\", \"SQL\"}\n",
    "\n",
    "ortak = A.intersection(B)\n",
    "sadece_a = A.difference(B)\n",
    "\n",
    "A = np.array([\"Python\", \"R\", \"SQL\", \"Java\"])\n",
    "B = np.array([\"C++\", \"Python\", \"JavaScript\", \"SQL\"])\n",
    "birleşim = np.union1d(A,B)\n",
    "\n",
    "\n",
    "print(\"Ortak diller : \",ortak)\n",
    "print(\"Sadece A'da olanlar : \",sadece_a)\n",
    "print(\"Birleşimi : \",birleşim)"
   ]
  },
  {
   "cell_type": "code",
   "execution_count": 5,
   "id": "8175e8ed-ce11-4407-ac8d-e5786c964da5",
   "metadata": {},
   "outputs": [
    {
     "name": "stdout",
     "output_type": "stream",
     "text": [
      "Random sayılar : [91 91 75 50 29 87 49 38 70 57]\n",
      "Sayıların Ortalaması :  63.7\n"
     ]
    }
   ],
   "source": [
    "#SORU 4 - MODÜLLER\n",
    "\n",
    "a=np.random.randint(1,100,10)\n",
    "sayilar=np.array(a)\n",
    "ortalama = sayilar.mean()\n",
    "print(\"Random sayılar :\", sayilar)\n",
    "print(\"Sayıların Ortalaması : \",ortalama)"
   ]
  },
  {
   "cell_type": "code",
   "execution_count": 6,
   "id": "a71256bf-e1ad-4322-a7bc-7ca619424c6b",
   "metadata": {},
   "outputs": [
    {
     "name": "stdout",
     "output_type": "stream",
     "text": [
      "Toplam kelime sayısı: 12\n",
      "En uzun kelime: Fenerbahçenin\n",
      "En sık geçen kelime: on\n"
     ]
    }
   ],
   "source": [
    "#SORU 5 - FONKSİYONLAR\n",
    "\n",
    "\n",
    "\n",
    "def kelime_sayaci(metin):\n",
    "  \n",
    "    kelimeler = np.array(metin.split())\n",
    "  \n",
    "    toplam_kelime = kelimeler.size\n",
    "\n",
    "    en_uzun = kelimeler[np.vectorize(len)(kelimeler).argmax()]\n",
    "    \n",
    "    uniq, counts = np.unique(kelimeler, return_counts=True)\n",
    "    en_cok = uniq[counts.argmax()]\n",
    "    \n",
    "    return toplam_kelime, en_uzun, en_cok\n",
    "\n",
    "metin = \"Fenerbahçenin on numaralı oyuncusu John Duran,bu sezon  on gol on asist yapmıştır\"\n",
    "toplam, en_uzun_kelime, en_cok_kelime = kelime_sayaci(metin)\n",
    "\n",
    "print(\"Toplam kelime sayısı:\", toplam)\n",
    "print(\"En uzun kelime:\", en_uzun_kelime)\n",
    "print(\"En sık geçen kelime:\", en_cok_kelime)"
   ]
  },
  {
   "cell_type": "code",
   "execution_count": 7,
   "id": "f7e6d9d5-295d-488f-a79c-7975bdc85a12",
   "metadata": {},
   "outputs": [
    {
     "name": "stdout",
     "output_type": "stream",
     "text": [
      "[576, 324, 256, 144]\n"
     ]
    }
   ],
   "source": [
    "#SORU 6- GÖMÜLÜ FONKSİYONLAR\n",
    "sayilar = [5, 12, 7, 18, 24, 3, 16]\n",
    "\n",
    "sonuc = sorted(\n",
    "    map(lambda x: x**2, filter(lambda x: x % 2 == 0, sayilar)),\n",
    "    reverse=True\n",
    ")\n",
    "print(sonuc)"
   ]
  },
  {
   "cell_type": "code",
   "execution_count": 8,
   "id": "e6f02f9c-c312-4218-a0b0-dc7ccb49e826",
   "metadata": {},
   "outputs": [
    {
     "data": {
      "text/plain": [
       "['veri', 'bilim', 'analiz', 'python', 'yapayzeka']"
      ]
     },
     "execution_count": 8,
     "metadata": {},
     "output_type": "execute_result"
    }
   ],
   "source": [
    "#SORU 7- LAMBDA İFADELERİ\n",
    "kelimeler =[\"veri\", \"bilim\", \"analiz\", \"yapayzeka\", \"python\"]\n",
    "uzunluk_siralama=sorted(kelimeler, key=lambda x: len(x))\n",
    "uzunluk_siralama                      "
   ]
  },
  {
   "cell_type": "code",
   "execution_count": 9,
   "id": "ad0c300d-4763-46d2-9a05-16d50de092d9",
   "metadata": {},
   "outputs": [
    {
     "name": "stdout",
     "output_type": "stream",
     "text": [
      "6\n"
     ]
    }
   ],
   "source": [
    "#SORU 8 - METODLAR\n",
    "def rakam_toplami(metin):\n",
    "    return sum(int(mt) for mt in metin if mt.isdigit())\n",
    "\n",
    "# Örnek kullanım\n",
    "s = \"abc12def3\"\n",
    "print(rakam_toplami(s))"
   ]
  },
  {
   "cell_type": "code",
   "execution_count": 10,
   "id": "544fffd6-d3f2-4e03-83a8-433216a5de61",
   "metadata": {},
   "outputs": [
    {
     "name": "stdout",
     "output_type": "stream",
     "text": [
      "Dizi: [37 21 46 49 11  6 47 48  9 15]\n",
      "Ortalaması :  28.9\n",
      "Standart Spması :  17.178183838811368\n",
      "En Büyük Değeri : 49\n"
     ]
    }
   ],
   "source": [
    "#SORU  9-(EKSTRA) NUMPY 1 \n",
    "list1=np.random.randint(0,51,10)\n",
    "ortalama=np.mean(list1)\n",
    "standart_sapma=np.std(list1)\n",
    "buyuk_deger=np.max(list1)\n",
    "print(\"Dizi:\" , list1)\n",
    "print(\"Ortalaması : \",ortalama)\n",
    "print(\"Standart Spması : \",standart_sapma)\n",
    "print(\"En Büyük Değeri :\",buyuk_deger)"
   ]
  },
  {
   "cell_type": "code",
   "execution_count": 11,
   "id": "0ec5f71b-a5ff-40dd-b64d-5f6630ca211f",
   "metadata": {},
   "outputs": [
    {
     "name": "stdout",
     "output_type": "stream",
     "text": [
      "Liste : [[0.93817442 0.88421239 0.02763002 0.94614934 0.14644481]\n",
      " [0.85339163 0.52566015 0.85454019 0.87462336 0.2478571 ]\n",
      " [0.01224397 0.73364632 0.80510628 0.90523163 0.69060809]\n",
      " [0.71250871 0.80769413 0.26448995 0.87698663 0.56853571]\n",
      " [0.06099887 0.62840322 0.02954645 0.57598265 0.06905795]]\n",
      "Sütunların Ortalaması : [0.51546352 0.71592324 0.39626258 0.83579472 0.34450073]\n",
      "Binary Matris: [[1 1 0 1 0]\n",
      " [1 1 1 1 0]\n",
      " [0 1 1 1 1]\n",
      " [1 1 0 1 1]\n",
      " [0 1 0 1 0]]\n"
     ]
    }
   ],
   "source": [
    "#SORU 10 - -(EKSTRA) NUMPY 2\n",
    "matris = np.random.rand(5, 5)\n",
    "sutun_ort = np.mean(matris, axis=0)\n",
    "binary_matris = (matris > 0.5).astype(int)\n",
    "print(\"Liste :\",matris)\n",
    "print(\"Sütunların Ortalaması :\",sutun_ort)\n",
    "print(\"Binary Matris:\",binary_matris)"
   ]
  },
  {
   "cell_type": "code",
   "execution_count": 14,
   "id": "6ceb2f54-aab2-459e-a29b-3253e65b9535",
   "metadata": {},
   "outputs": [
    {
     "name": "stdout",
     "output_type": "stream",
     "text": [
      "En Çok Satan Kitap: {'isim': 'Makine Öğrenmesi', 'yazar': 'Can', 'tur': 'Bilim', 'satis': 1800, 'yil': 2022}\n",
      "Yazar Satışları: {'Ali': 3400, 'Ayşe': 1550, 'Can': 1800, 'Deniz': 400}\n",
      "Kitap Türleri: {'Akademik', 'Sanat', 'Bilim', 'Sosyal'}\n",
      "Popüler Kitaplar: ['Veri Bilimi 101', 'Makine Öğrenmesi', 'Matematiksel Modelleme']\n",
      "2020 Sonrası Kitaplar: [{'isim': 'Veri Bilimi 101', 'yazar': 'Ali', 'tur': 'Bilim', 'satis': 1200, 'yil': 2021}, {'isim': 'Makine Öğrenmesi', 'yazar': 'Can', 'tur': 'Bilim', 'satis': 1800, 'yil': 2022}, {'isim': 'Matematiksel Modelleme', 'yazar': 'Ali', 'tur': 'Akademik', 'satis': 1500, 'yil': 2021}, {'isim': 'Bilgi Toplumu', 'yazar': 'Ayşe', 'tur': 'Sosyal', 'satis': 600, 'yil': 2022}]\n",
      "%10 Artırılmış Satışlar: [1320.0, 1045.0, 770.0000000000001, 1980.0000000000002, 440.00000000000006, 1650.0000000000002, 660.0]\n",
      "nSatışa Göre Sıralı Kitaplar: [{'isim': 'Makine Öğrenmesi', 'yazar': 'Can', 'tur': 'Bilim', 'satis': 1800, 'yil': 2022}, {'isim': 'Matematiksel Modelleme', 'yazar': 'Ali', 'tur': 'Akademik', 'satis': 1500, 'yil': 2021}, {'isim': 'Veri Bilimi 101', 'yazar': 'Ali', 'tur': 'Bilim', 'satis': 1200, 'yil': 2021}, {'isim': 'Python ile Yapay Zeka', 'yazar': 'Ayşe', 'tur': 'Bilim', 'satis': 950, 'yil': 2020}, {'isim': 'İstatistik Temelleri', 'yazar': 'Ali', 'tur': 'Akademik', 'satis': 700, 'yil': 2019}, {'isim': 'Bilgi Toplumu', 'yazar': 'Ayşe', 'tur': 'Sosyal', 'satis': 600, 'yil': 2022}, {'isim': 'Veri Görselleştirme', 'yazar': 'Deniz', 'tur': 'Sanat', 'satis': 400, 'yil': 2018}]\n"
     ]
    }
   ],
   "source": [
    "#PROJE – “Kitap Satış Analiz Sistemi”\n",
    "\n",
    "kitaplar = [\n",
    "    {\"isim\": \"Veri Bilimi 101\", \"yazar\": \"Ali\", \"tur\": \"Bilim\", \"satis\": 1200, \"yil\": 2021},\n",
    "    {\"isim\": \"Python ile Yapay Zeka\", \"yazar\": \"Ayşe\", \"tur\": \"Bilim\", \"satis\": 950, \"yil\": 2020},\n",
    "    {\"isim\": \"İstatistik Temelleri\", \"yazar\": \"Ali\", \"tur\": \"Akademik\", \"satis\": 700, \"yil\": 2019},\n",
    "    {\"isim\": \"Makine Öğrenmesi\", \"yazar\": \"Can\", \"tur\": \"Bilim\", \"satis\": 1800, \"yil\": 2022},\n",
    "    {\"isim\": \"Veri Görselleştirme\", \"yazar\": \"Deniz\", \"tur\": \"Sanat\", \"satis\": 400, \"yil\": 2018},\n",
    "    {\"isim\": \"Matematiksel Modelleme\", \"yazar\": \"Ali\", \"tur\": \"Akademik\", \"satis\": 1500, \"yil\": 2021},\n",
    "    {\"isim\": \"Bilgi Toplumu\", \"yazar\": \"Ayşe\", \"tur\": \"Sosyal\", \"satis\": 600, \"yil\": 2022}\n",
    "]\n",
    "\n",
    "def en_cok_satan(kitaplar):\n",
    "    return max(kitaplar, key=lambda x: x[\"satis\"])\n",
    "\n",
    "def yazar_satislari(kitaplar):\n",
    "    sonuc = {}\n",
    "    for k in kitaplar:\n",
    "        sonuc[k[\"yazar\"]] = sonuc.get(k[\"yazar\"], 0) + k[\"satis\"]\n",
    "    return sonuc\n",
    "turler = {k[\"tur\"] for k in kitaplar}\n",
    "populer_kitaplar = [k[\"isim\"] for k in kitaplar if k[\"satis\"] > 1000]\n",
    "yeni_kitaplar = list(filter(lambda k: k[\"yil\"] > 2020, kitaplar))\n",
    "artirilmis_satis = list(map(lambda k: k[\"satis\"] * 1.1, kitaplar))\n",
    "sirali_kitaplar = sorted(kitaplar, key=lambda x: x[\"satis\"], reverse=True)\n",
    "\n",
    "\n",
    "print(\"En Çok Satan Kitap:\", en_cok_satan(kitaplar))\n",
    "print(\"Yazar Satışları:\", yazar_satislari(kitaplar))\n",
    "print(\"Kitap Türleri:\", turler)\n",
    "print(\"Popüler Kitaplar:\", populer_kitaplar)\n",
    "print(\"2020 Sonrası Kitaplar:\", yeni_kitaplar)\n",
    "print(\"%10 Artırılmış Satışlar:\", artirilmis_satis)\n",
    "print(\"nSatışa Göre Sıralı Kitaplar:\", sirali_kitaplar)\n",
    "\n"
   ]
  },
  {
   "cell_type": "code",
   "execution_count": null,
   "id": "a35343dd-0059-446a-8639-fbcb1916bf67",
   "metadata": {},
   "outputs": [],
   "source": []
  }
 ],
 "metadata": {
  "kernelspec": {
   "display_name": "Python 3 (ipykernel)",
   "language": "python",
   "name": "python3"
  },
  "language_info": {
   "codemirror_mode": {
    "name": "ipython",
    "version": 3
   },
   "file_extension": ".py",
   "mimetype": "text/x-python",
   "name": "python",
   "nbconvert_exporter": "python",
   "pygments_lexer": "ipython3",
   "version": "3.13.5"
  }
 },
 "nbformat": 4,
 "nbformat_minor": 5
}
