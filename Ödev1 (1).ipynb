{
 "cells": [
  {
   "cell_type": "code",
   "execution_count": 48,
   "id": "813a0f63-8ae9-4b88-a50d-601579a2ed74",
   "metadata": {},
   "outputs": [
    {
     "name": "stdin",
     "output_type": "stream",
     "text": [
      "İsminizi Giriniz: Eren\n"
     ]
    },
    {
     "name": "stdout",
     "output_type": "stream",
     "text": [
      "Eren\n"
     ]
    }
   ],
   "source": [
    "isim = str (input(\"İsminizi Giriniz:\"))\n",
    "print(isim)"
   ]
  },
  {
   "cell_type": "code",
   "execution_count": 49,
   "id": "2adcf275-dd80-4926-8a8d-aaab11033e42",
   "metadata": {},
   "outputs": [
    {
     "name": "stdin",
     "output_type": "stream",
     "text": [
      "Yaşınızı Giriniz: 24\n"
     ]
    },
    {
     "name": "stdout",
     "output_type": "stream",
     "text": [
      "24\n"
     ]
    }
   ],
   "source": [
    "yas = int (input (\"Yaşınızı Giriniz:\"))\n",
    "print(yas)"
   ]
  },
  {
   "cell_type": "code",
   "execution_count": 50,
   "id": "fe36660b-19f4-482e-bf88-5a0310781a0f",
   "metadata": {
    "scrolled": true
   },
   "outputs": [
    {
     "name": "stdin",
     "output_type": "stream",
     "text": [
      "Boyunuzu Giriniz: 1.78\n"
     ]
    },
    {
     "name": "stdout",
     "output_type": "stream",
     "text": [
      "1.78\n"
     ]
    }
   ],
   "source": [
    "boy =  float (input (\"Boyunuzu Giriniz:\"))\n",
    "print(boy)"
   ]
  },
  {
   "cell_type": "code",
   "execution_count": 51,
   "id": "54ec86f3-1ff2-4119-b84e-2cf9779ba314",
   "metadata": {},
   "outputs": [
    {
     "name": "stdout",
     "output_type": "stream",
     "text": [
      "63.333333333333336\n"
     ]
    }
   ],
   "source": [
    "mat = 80 \n",
    "fiz = 60\n",
    "kim = 50\n",
    "ortalama = (mat + fiz + kim) / 3\n",
    "print(ortalama)"
   ]
  },
  {
   "cell_type": "code",
   "execution_count": 60,
   "id": "ba9e9bcf-8330-4b65-83ea-1bdde1a4f1f2",
   "metadata": {},
   "outputs": [
    {
     "name": "stdout",
     "output_type": "stream",
     "text": [
      "fenerbahce\n",
      "f\n",
      "e\n",
      "10\n",
      "echabrenef\n"
     ]
    }
   ],
   "source": [
    "metin = \"fenerbahce\"\n",
    "ilk = metin[0]\n",
    "son = metin[-1]\n",
    "uzunluk = len(metin)\n",
    "ters = metin[::-1]\n",
    "print(metin)\n",
    "print(ilk)\n",
    "print(son)\n",
    "print(uzunluk)\n",
    "print(ters)"
   ]
  },
  {
   "cell_type": "code",
   "execution_count": 61,
   "id": "1fd9d127-69b7-4ae5-9dfc-b84783ee8869",
   "metadata": {},
   "outputs": [
    {
     "name": "stdout",
     "output_type": "stream",
     "text": [
      "25\n",
      "15\n",
      "100\n",
      "4.0\n",
      "0\n",
      "3200000\n"
     ]
    }
   ],
   "source": [
    "x = 20\n",
    "y = 5\n",
    "print(x+y)\n",
    "print(x-y)\n",
    "print(x*y)\n",
    "print(x/y)\n",
    "print(x%y)\n",
    "print(x**y)"
   ]
  },
  {
   "cell_type": "code",
   "execution_count": 73,
   "id": "4b8b98cd-bb74-4b75-928a-3b6e5d821b82",
   "metadata": {},
   "outputs": [
    {
     "name": "stdout",
     "output_type": "stream",
     "text": [
      "58.0 → Geçti\n"
     ]
    }
   ],
   "source": [
    "matematik = 54\n",
    "fizik = 62\n",
    "kimya = 58\n",
    "ortalama = (matematik + fizik + kimya) / 3\n",
    "if ortalama > 50 and ortalama <= 100:\n",
    "       print( ortalama, \"→ Geçti\")\n",
    "else:\n",
    "    print( ortalama, \"→ Kaldı\")\n",
    "  "
   ]
  },
  {
   "cell_type": "code",
   "execution_count": 83,
   "id": "43d1fb3c-8609-4055-9a87-e51cc8655a94",
   "metadata": {},
   "outputs": [
    {
     "name": "stdin",
     "output_type": "stream",
     "text": [
      "Yaşınız: 15\n"
     ]
    },
    {
     "name": "stdout",
     "output_type": "stream",
     "text": [
      "Ehliyet alamazsınız !!\n"
     ]
    }
   ],
   "source": [
    "yas = int(input(\"Yaşınız:\"))\n",
    "if  yas >= 18 : \n",
    "    print(\"Ehliyet alablilirsiniz.\")\n",
    "else:\n",
    "    print(\"Ehliyet alamazsınız !!\")\n",
    "    "
   ]
  },
  {
   "cell_type": "code",
   "execution_count": 105,
   "id": "18952ce0-8ad5-4e7f-b5f4-6208fc7dc804",
   "metadata": {},
   "outputs": [
    {
     "name": "stdin",
     "output_type": "stream",
     "text": [
      "İndirim oranını giriniz (%):  20\n"
     ]
    },
    {
     "name": "stdout",
     "output_type": "stream",
     "text": [
      "ürünün indirimli fiyatı: 360.0\n"
     ]
    }
   ],
   "source": [
    " fiyat = 450 \n",
    "indirim_orani = float(input(\"İndirim oranını giriniz (%): \"))\n",
    "indirimli_fiyat = fiyat - (fiyat*indirim_orani / 100)\n",
    "print(\"Ürünün indirimli fiyatı:\",indirimli_fiyat)\n"
   ]
  },
  {
   "cell_type": "code",
   "execution_count": 121,
   "id": "030527a7-8823-4b36-bbf1-ed9f7be258f5",
   "metadata": {},
   "outputs": [
    {
     "name": "stdin",
     "output_type": "stream",
     "text": [
      "ürün1 fiyatı: 90\n",
      "ürün2 fiyatı: 100\n",
      "ürün3 fiyatı: 50\n"
     ]
    },
    {
     "name": "stdout",
     "output_type": "stream",
     "text": [
      "Toplam fiyat: 240\n",
      "İndirimli Fiyat: 216.0\n"
     ]
    }
   ],
   "source": [
    "urun1 = int(input(\"ürün1 fiyatı:\"))\n",
    "urun2 = int(input(\"ürün2 fiyatı:\")) \n",
    "urun3 = int(input(\"ürün3 fiyatı:\"))  \n",
    "toplam = urun1 + urun2 + urun3 \n",
    "print(\"Toplam fiyat:\",toplam)\n",
    "if toplam > 200 :\n",
    "    indirimli_fiyat = toplam - (toplam * 10) /100\n",
    "    print(\"İndirimli Fiyat:\",indirimli_fiyat)"
   ]
  },
  {
   "cell_type": "code",
   "execution_count": 127,
   "id": "6574f437-1ef1-4545-813c-74786c4dc7ab",
   "metadata": {},
   "outputs": [
    {
     "name": "stdin",
     "output_type": "stream",
     "text": [
      "Doğum Yılı 2001\n"
     ]
    },
    {
     "name": "stdout",
     "output_type": "stream",
     "text": [
      "Yaşınız 24\n",
      "Yetişkinsiniz\n"
     ]
    }
   ],
   "source": [
    "yıl = int(input(\"Doğum Yılı\"))\n",
    "günc_yıl = 2025 \n",
    "yas = günc_yıl - yıl \n",
    "print(\"Yaşınız\",yas)\n",
    "if 0 <= yas <= 12:\n",
    "    print(\"Çocuksunuz\")\n",
    "elif 13 <= yas <= 17:\n",
    "    print(\"Ergensiniz\")\n",
    "elif yas >= 18:\n",
    "    print(\"Yetişkinsiniz\")\n"
   ]
  },
  {
   "cell_type": "code",
   "execution_count": null,
   "id": "b2bfae0a-1003-4f80-b891-bafd89b03c25",
   "metadata": {},
   "outputs": [],
   "source": [
    "# Eren Kadam"
   ]
  }
 ],
 "metadata": {
  "kernelspec": {
   "display_name": "Python 3 (ipykernel)",
   "language": "python",
   "name": "python3"
  },
  "language_info": {
   "codemirror_mode": {
    "name": "ipython",
    "version": 3
   },
   "file_extension": ".py",
   "mimetype": "text/x-python",
   "name": "python",
   "nbconvert_exporter": "python",
   "pygments_lexer": "ipython3",
   "version": "3.13.5"
  }
 },
 "nbformat": 4,
 "nbformat_minor": 5
}
