{
 "cells": [
  {
   "cell_type": "code",
   "execution_count": 1,
   "id": "083c550f-7074-4bc2-a98e-13dfaf1d31e1",
   "metadata": {},
   "outputs": [
    {
     "name": "stdin",
     "output_type": "stream",
     "text": [
      "Sayı giriniz: -6\n"
     ]
    },
    {
     "name": "stdout",
     "output_type": "stream",
     "text": [
      "Negatif Çift\n"
     ]
    }
   ],
   "source": [
    "# SORU 1 : SAYI ANALİZİ \n",
    "sayi = int(input(\"Sayı giriniz:\"))\n",
    "sonuc = \"Pozitif\" if sayi >0 else  (\"Negatif\" if sayi <0 else \"Sıfırdır\")         # ternary if \n",
    "if sayi % 2==0:\n",
    "    teci = \"Çift\"\n",
    "else:\n",
    "    teci = \"Tek\"\n",
    "print(sonuc, teci)"
   ]
  },
  {
   "cell_type": "code",
   "execution_count": 2,
   "id": "5f5c4f9e-fbbe-4799-bd9b-9d0107c4f9fb",
   "metadata": {
    "scrolled": true
   },
   "outputs": [
    {
     "name": "stdin",
     "output_type": "stream",
     "text": [
      "Bir kelime yazınız: fenerbahçe\n"
     ]
    },
    {
     "name": "stdout",
     "output_type": "stream",
     "text": [
      "{'f': 1, 'e': 3, 'n': 1, 'r': 1, 'b': 1, 'a': 1, 'h': 1, 'ç': 1}\n",
      "Kelime uzunluğu: 10\n"
     ]
    }
   ],
   "source": [
    "# SORU 2 : HARF FREKANSI\n",
    "kelime =input(\"Bir kelime yazınız:\")\n",
    "harf_sayisi = {}\n",
    "\n",
    "for harf in kelime:\n",
    "    if harf in harf_sayisi:\n",
    "        harf_sayisi[harf] += 1\n",
    "    else:\n",
    "        harf_sayisi[harf] = 1\n",
    "print(harf_sayisi)\n",
    "kelime_uzunluk = len(kelime)\n",
    "print(\"Kelime uzunluğu:\",len(kelime))"
   ]
  },
  {
   "cell_type": "code",
   "execution_count": 3,
   "id": "3167872f-8b80-4ea0-8447-63670365ca16",
   "metadata": {
    "scrolled": true
   },
   "outputs": [
    {
     "name": "stdin",
     "output_type": "stream",
     "text": [
      "Lütfen bir şifre giriniz: erenkadam78\n"
     ]
    },
    {
     "name": "stdout",
     "output_type": "stream",
     "text": [
      "Şifreniz geçerli değil!\n",
      "Şifre en az 1 büyük harf içermeli!\n"
     ]
    }
   ],
   "source": [
    "# SORU 3 : ŞİFRE KONTROLÜ\n",
    "sifre = input(\"Lütfen bir şifre giriniz:\")\n",
    "uzunluk = len(sifre) >= 8\n",
    "buyukha = any(harf.isupper() for harf in sifre)          # İSUPPER() -->  BÜYÜK HARF KONTROLÜ\n",
    "rakamkont = any(harf.isdigit() for harf in sifre)         # İSDİGİT() -->  RAKAM KONTROLÜ\n",
    "if uzunluk and buyukha and rakamkont:\n",
    "    print(\"Şifreniz geçerli\")\n",
    "else:\n",
    "    print(\"Şifreniz geçerli değil!\")\n",
    "    if not uzunluk:\n",
    "        print(\"Şifre en az 8 karakter olmalı\")\n",
    "    if not buyukha:\n",
    "        print(\"Şifre en az 1 büyük harf içermeli!\")\n",
    "    if not rakamkont:\n",
    "        print(\"Şifre en az 1 rakam içermeli!\")"
   ]
  },
  {
   "cell_type": "code",
   "execution_count": 4,
   "id": "f517726b-f748-427a-a51d-5586cbb55ccd",
   "metadata": {},
   "outputs": [
    {
     "name": "stdout",
     "output_type": "stream",
     "text": [
      "Ortalama: 15.0\n",
      "Ortalamadan büyük sayılar: [25, 30, 18]\n"
     ]
    }
   ],
   "source": [
    "# SORU 4 : LİSTE İŞLEMLERİ \n",
    "liste = [12, 4, 9, 25, 30, 7, 18]\n",
    "ortalama = sum(liste) / len(liste)\n",
    "print(\"Ortalama:\",ortalama)\n",
    "buyuksa = []\n",
    "for sayi in liste:\n",
    "    if sayi > ortalama:\n",
    "        buyuksa.append(sayi)\n",
    "print(\"Ortalamadan büyük sayılar:\",buyuksa)"
   ]
  },
  {
   "cell_type": "code",
   "execution_count": 5,
   "id": "4d8ec28d-0109-46b7-9af2-3147f9ec6ba0",
   "metadata": {},
   "outputs": [
    {
     "name": "stdout",
     "output_type": "stream",
     "text": [
      "*\n",
      "**\n",
      "***\n",
      "****\n",
      "*****\n"
     ]
    }
   ],
   "source": [
    "# SORU 5 : NESTED LOOP(DESEN)\n",
    "for i in range(1,6,1):\n",
    "    print(\"*\"*i)   "
   ]
  },
  {
   "cell_type": "code",
   "execution_count": 6,
   "id": "18d085bd-35fc-4bf1-ae46-09b196ab17c2",
   "metadata": {},
   "outputs": [
    {
     "name": "stdin",
     "output_type": "stream",
     "text": [
      "Sayı giriniz:! 0 sonlandırır! 45\n",
      "Sayı giriniz: 35\n",
      "Sayı giriniz: 78\n",
      "Sayı giriniz: 54\n",
      "Sayı giriniz: 0\n"
     ]
    },
    {
     "name": "stdout",
     "output_type": "stream",
     "text": [
      "Girdiğiniz sayıların toplamı: 212\n",
      "Sayıların ortalaması: 53.0\n"
     ]
    }
   ],
   "source": [
    "# SORU 6 : WHİLE DÖNGÜSÜ \n",
    "toplam = 0\n",
    "adet = 0\n",
    "sayi = int(input(\"Sayı giriniz:! 0 sonlandırır!\"))\n",
    "while sayi != 0 :\n",
    "    toplam += sayi\n",
    "    adet += 1 \n",
    "    sayi = int(input(\"Sayı giriniz:\"))\n",
    "if adet > 0:\n",
    "    print(\"Girdiğiniz sayıların toplamı:\", toplam)\n",
    "    print(\"Sayıların ortalaması:\", toplam/adet)\n",
    "else:\n",
    "    print(\"Sayı Girilmedi!\")"
   ]
  },
  {
   "cell_type": "code",
   "execution_count": 7,
   "id": "37147eca-4660-46d1-a22d-14043ec1eec7",
   "metadata": {},
   "outputs": [
    {
     "name": "stdin",
     "output_type": "stream",
     "text": [
      "Kelime giriniz:  kayak\n"
     ]
    },
    {
     "name": "stdout",
     "output_type": "stream",
     "text": [
      "Polindrom\n"
     ]
    }
   ],
   "source": [
    "# SORU 7 : POLİNDROM KONTROLÜ\n",
    "kelime = str(input(\"Kelime giriniz: \"))\n",
    "if kelime == kelime[::-1]:\n",
    "    print(\"Polindrom\")\n",
    "else:\n",
    "    print(\"Palindrom değildir.\")"
   ]
  },
  {
   "cell_type": "code",
   "execution_count": 9,
   "id": "62de11b2-9e40-47d0-ba4b-72e0b4c47cd6",
   "metadata": {},
   "outputs": [
    {
     "name": "stdout",
     "output_type": "stream",
     "text": [
      "225\n",
      "900\n",
      "2025\n",
      "3600\n",
      "5625\n",
      "8100\n"
     ]
    }
   ],
   "source": [
    "# SORU 8 : LİST COMPREHENSİON\n",
    "for i in range(15,100,15):\n",
    "    print(i**2)   # ** üs almak için kullanılır"
   ]
  },
  {
   "cell_type": "code",
   "execution_count": 10,
   "id": "fb0a82d4-43d5-4502-9171-5da6d248fcae",
   "metadata": {},
   "outputs": [
    {
     "name": "stdin",
     "output_type": "stream",
     "text": [
      "Bir cümle giriniz:  Python veri bilimi\n"
     ]
    },
    {
     "name": "stdout",
     "output_type": "stream",
     "text": [
      "Birinci cümle:  Python veri bilimi\n",
      "İkinci cümle:  Python Veri Bilimi\n"
     ]
    }
   ],
   "source": [
    "# SORU 9 : STRİNG İŞLEMLERİ \n",
    "cumle = str(input(\"Bir cümle giriniz: \"))\n",
    "cumle2 =cumle.title()\n",
    "print(\"Birinci cümle: \", cumle)\n",
    "print(\"İkinci cümle: \", cumle2)"
   ]
  },
  {
   "cell_type": "code",
   "execution_count": 11,
   "id": "22c06da3-ad8d-4aa3-aee6-a5457076f312",
   "metadata": {},
   "outputs": [
    {
     "name": "stdin",
     "output_type": "stream",
     "text": [
      "1.Yorumu giriniz:  Film çok güzeldi\n",
      "2.Yorumu giriniz:  Kötüydü\n",
      "3.Yorumu giriniz:  Ortalama bir filmdi \n",
      "4.Yorumu giriniz:  Gerçekten çok iyi \n",
      "5.Yorumu giriniz:  İyi ama daha iyi olabilirdi \n"
     ]
    },
    {
     "name": "stdout",
     "output_type": "stream",
     "text": [
      " 1. Yorum uzunluğu: 16 karakter\n",
      " 2. Yorum uzunluğu: 7 karakter\n",
      " 3. Yorum uzunluğu: 20 karakter\n",
      " 4. Yorum uzunluğu: 18 karakter\n",
      " 5. Yorum uzunluğu: 28 karakter\n",
      "'iyi' kelimesi geçen yorum sayısı:2\n",
      "En uzun yorum:İyi ama daha iyi olabilirdi \n",
      "En kısa yorum:Kötüydü\n",
      "Yorum uzunluğu ortalaması: 17.8\n"
     ]
    }
   ],
   "source": [
    "# SORU 10 : MİNİ PROJE-FİLM YORUMU ANALİZİ\n",
    "\n",
    "# Kısım 1\n",
    "adet = 5\n",
    "yorumlar =list()\n",
    "for i in range(1,adet+1):\n",
    "    yorum = input(f'{i}.Yorumu giriniz: ') \n",
    "    yorumlar.append(yorum)\n",
    "# Kısım 2 \n",
    "for i ,yorum in enumerate(yorumlar,1):\n",
    "    print(f\" {i}. Yorum uzunluğu: {len(yorum)} karakter\")\n",
    "# Kısım 3\n",
    "iyisayac = 0\n",
    "for yorum in yorumlar:\n",
    "    kelimeler = yorum.split()  \n",
    "    if \"iyi\" in kelimeler:\n",
    "        iyisayac += 1\n",
    "print(f\"'iyi' kelimesi geçen yorum sayısı:{iyisayac}\")\n",
    "# Kısım 4\n",
    "uzunluk = [len(yorum) for yorum in yorumlar]\n",
    "en_uzun = yorumlar[uzunluk.index(max(uzunluk))]\n",
    "en_kisa = yorumlar[uzunluk.index(min(uzunluk))]\n",
    "print(f\"En uzun yorum:{en_uzun}\")\n",
    "print(f\"En kısa yorum:{en_kisa}\")\n",
    "# Kısım 5 \n",
    "ortalama= sum(uzunluk) / adet\n",
    "print(\"Yorum uzunluğu ortalaması:\", ortalama)"
   ]
  },
  {
   "cell_type": "code",
   "execution_count": null,
   "id": "9bf2bbd1-078c-46dd-be5a-e03857088915",
   "metadata": {},
   "outputs": [],
   "source": []
  }
 ],
 "metadata": {
  "kernelspec": {
   "display_name": "Python 3 (ipykernel)",
   "language": "python",
   "name": "python3"
  },
  "language_info": {
   "codemirror_mode": {
    "name": "ipython",
    "version": 3
   },
   "file_extension": ".py",
   "mimetype": "text/x-python",
   "name": "python",
   "nbconvert_exporter": "python",
   "pygments_lexer": "ipython3",
   "version": "3.13.5"
  }
 },
 "nbformat": 4,
 "nbformat_minor": 5
}
